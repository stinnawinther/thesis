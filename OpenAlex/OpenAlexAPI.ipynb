{
 "cells": [
  {
   "cell_type": "code",
   "execution_count": 181,
   "id": "50091aa3",
   "metadata": {},
   "outputs": [
    {
     "name": "stdout",
     "output_type": "stream",
     "text": [
      "Requirement already satisfied: openalexapi in /Users/stinnawinther/opt/anaconda3/lib/python3.9/site-packages (0.0.1a0)\r\n"
     ]
    }
   ],
   "source": [
    "#install openAlex API:\n",
    "import sys\n",
    "!{sys.executable} -m pip install openalexapi"
   ]
  },
  {
   "cell_type": "code",
   "execution_count": 182,
   "id": "df510830",
   "metadata": {},
   "outputs": [],
   "source": [
    "#Install packages:\n",
    "import numpy as np\n",
    "import matplotlib as plt\n",
    "import pandas as pd\n",
    "import requests\n",
    "import math\n",
    "import csv"
   ]
  },
  {
   "cell_type": "markdown",
   "id": "4408d9b3",
   "metadata": {},
   "source": [
    " # Experiment with queries through openAlex"
   ]
  },
  {
   "cell_type": "code",
   "execution_count": 381,
   "id": "fb96bf68",
   "metadata": {},
   "outputs": [],
   "source": [
    "#read keywords dictionary for search query from csv file:\n",
    "searchwords = {}\n",
    "ds_reader = csv.DictReader(open('../thesis/keywords.csv'))\n",
    "for s in ds_reader:\n",
    "    searchwords[s[\"Keywords\"]] = s[\"Variations\"]"
   ]
  },
  {
   "cell_type": "code",
   "execution_count": 382,
   "id": "de59843a",
   "metadata": {},
   "outputs": [
    {
     "data": {
      "text/plain": [
       "{'chest': 'chest radiology, CXR, chest xray',\n",
       " 'image': 'image',\n",
       " 'data': 'dataset, database',\n",
       " 'ML': 'artificial intelligence, machine learning, CNN, deep learning, convolutional neural network, computer-aided diagnosis, classification, classifier, transfer learning, multitask learning, AI'}"
      ]
     },
     "execution_count": 382,
     "metadata": {},
     "output_type": "execute_result"
    }
   ],
   "source": [
    "#print the dictionary:\n",
    "searchwords"
   ]
  },
  {
   "cell_type": "code",
   "execution_count": 383,
   "id": "0ddd431d",
   "metadata": {},
   "outputs": [
    {
     "name": "stdout",
     "output_type": "stream",
     "text": [
      "chest\n",
      "image\n",
      "data\n",
      "ML\n"
     ]
    }
   ],
   "source": [
    "#print the keys for searchwords:\n",
    "for key in searchwords:\n",
    "    print(key)"
   ]
  },
  {
   "cell_type": "code",
   "execution_count": 384,
   "id": "e33c2c4d",
   "metadata": {},
   "outputs": [
    {
     "name": "stdout",
     "output_type": "stream",
     "text": [
      "\"chest radiology\"|\"CXR\"|\"chest xray\",\"image\",\"dataset\"|\"database\",\"artificial intelligence\"|\"machine learning\"|\"CNN\"|\"deep learning\"|\"convolutional neural network\"|\"computer-aided diagnosis\"|\"classification\"|\"classifier\"|\"transfer learning\"|\"multitask learning\"|\"AI\"\n"
     ]
    }
   ],
   "source": [
    "#adjust the query for OpenAlex url:\n",
    "query = ''\n",
    "\n",
    "#split all values for each keyword by comma (between the OR words):\n",
    "for value in searchwords.keys():\n",
    "    searchwords[value]=searchwords[value].split(',')\n",
    "    #put quotation marks around the word to be sure it will search on the double words together:\n",
    "#for w in searchwords[value]:\n",
    "    #searchwords[value] += f'\"{w}\"'\n",
    "    query+=', '.join(f'\"{w}\"' for w in searchwords[value])\n",
    "\n",
    "query = query.replace(',', '|')\n",
    "query = query.replace('\"\"','\",\"')\n",
    "query = query.replace('| ', '|')\n",
    "query= query.replace('\" ','\"')\n",
    "\n",
    "print(query)"
   ]
  },
  {
   "cell_type": "code",
   "execution_count": 385,
   "id": "8ba011d4",
   "metadata": {},
   "outputs": [],
   "source": [
    "#split the query by the comma such that it is posible to add the parameter for the filtering for each value per key:\n",
    "query_keywords=query.split(',')"
   ]
  },
  {
   "cell_type": "code",
   "execution_count": 386,
   "id": "84d0545d",
   "metadata": {},
   "outputs": [
    {
     "data": {
      "text/plain": [
       "['\"chest radiology\"|\"CXR\"|\"chest xray\"',\n",
       " '\"image\"',\n",
       " '\"dataset\"|\"database\"',\n",
       " '\"artificial intelligence\"|\"machine learning\"|\"CNN\"|\"deep learning\"|\"convolutional neural network\"|\"computer-aided diagnosis\"|\"classification\"|\"classifier\"|\"transfer learning\"|\"multitask learning\"|\"AI\"']"
      ]
     },
     "execution_count": 386,
     "metadata": {},
     "output_type": "execute_result"
    }
   ],
   "source": [
    "query_keywords"
   ]
  },
  {
   "cell_type": "code",
   "execution_count": 387,
   "id": "cfc89d10",
   "metadata": {},
   "outputs": [],
   "source": [
    "#base url with filter parameter:\n",
    "base_url = \"https://api.openalex.org/works?filter=\"\n",
    "\n",
    "#parameter to do the search on fulltexts:\n",
    "param ='fulltext.search:'\n",
    "\n",
    "#add number of results per page:\n",
    "max_results_per_page = '&per-page=200'"
   ]
  },
  {
   "cell_type": "code",
   "execution_count": 388,
   "id": "6ca1c48e",
   "metadata": {
    "scrolled": true
   },
   "outputs": [
    {
     "name": "stdout",
     "output_type": "stream",
     "text": [
      "https://api.openalex.org/works?filter=fulltext.search:\"chest radiology\"|\"CXR\"|\"chest xray\",fulltext.search:\"image\",fulltext.search:\"dataset\"|\"database\",fulltext.search:\"artificial intelligence\"|\"machine learning\"|\"CNN\"|\"deep learning\"|\"convolutional neural network\"|\"computer-aided diagnosis\"|\"classification\"|\"classifier\"|\"transfer learning\"|\"multitask learning\"|\"AI\"&per-page=200\n"
     ]
    }
   ],
   "source": [
    "#add the base url with filter:\n",
    "url = f'{base_url}'\n",
    "#add parameter, keywords:\n",
    "for keywords in query_keywords:\n",
    "    url+=f'{param}{keywords}'\n",
    "\n",
    "#add a comma between the keywords:\n",
    "url=url.replace(f'\"{param}', f'\",{param}')\n",
    "\n",
    "#add max number of results per page to the url:\n",
    "url = url+max_results_per_page\n",
    "print(url)"
   ]
  },
  {
   "cell_type": "code",
   "execution_count": 389,
   "id": "e9f8cbc7",
   "metadata": {},
   "outputs": [],
   "source": [
    "#define a function that return the meta data on the url e.g., number of search results:\n",
    "def meta (url):\n",
    "    r = requests.get(url)\n",
    "    meta = r.json()['meta']\n",
    "    return meta"
   ]
  },
  {
   "cell_type": "code",
   "execution_count": 390,
   "id": "0655502c",
   "metadata": {},
   "outputs": [],
   "source": [
    "#define a function that return the actual results:\n",
    "def results(url):\n",
    "    results= requests.get(url).json()['results']\n",
    "    return results"
   ]
  },
  {
   "cell_type": "code",
   "execution_count": 391,
   "id": "fd95723e",
   "metadata": {},
   "outputs": [],
   "source": [
    "#get the meta data from search queries:\n",
    "meta = meta(url)"
   ]
  },
  {
   "cell_type": "code",
   "execution_count": 377,
   "id": "269de2db",
   "metadata": {},
   "outputs": [
    {
     "data": {
      "text/plain": [
       "{'count': 1452, 'db_response_time_ms': 280, 'page': 1, 'per_page': 200}"
      ]
     },
     "execution_count": 377,
     "metadata": {},
     "output_type": "execute_result"
    }
   ],
   "source": [
    "meta"
   ]
  },
  {
   "cell_type": "code",
   "execution_count": 393,
   "id": "61910038",
   "metadata": {},
   "outputs": [
    {
     "data": {
      "text/plain": [
       "'https://api.openalex.org/works?filter=fulltext.search:\"chest radiology\"|\"CXR\"|\"chest xray\",fulltext.search:\"image\",fulltext.search:\"dataset\"|\"database\",fulltext.search:\"artificial intelligence\"|\"machine learning\"|\"CNN\"|\"deep learning\"|\"convolutional neural network\"|\"computer-aided diagnosis\"|\"classification\"|\"classifier\"|\"transfer learning\"|\"multitask learning\"|\"AI\"&per-page=200'"
      ]
     },
     "execution_count": 393,
     "metadata": {},
     "output_type": "execute_result"
    }
   ],
   "source": [
    "url"
   ]
  },
  {
   "cell_type": "code",
   "execution_count": 399,
   "id": "4c855e16",
   "metadata": {
    "scrolled": true
   },
   "outputs": [
    {
     "name": "stdout",
     "output_type": "stream",
     "text": [
      "https://api.openalex.org/works?filter=fulltext.search:\"chest radiology\"|\"CXR\"|\"chest xray\",fulltext.search:\"image\",fulltext.search:\"dataset\"|\"database\",fulltext.search:\"artificial intelligence\"|\"machine learning\"|\"CNN\"|\"deep learning\"|\"convolutional neural network\"|\"computer-aided diagnosis\"|\"classification\"|\"classifier\"|\"transfer learning\"|\"multitask learning\"|\"AI\"&per-page=200&page=1\n",
      "https://api.openalex.org/works?filter=fulltext.search:\"chest radiology\"|\"CXR\"|\"chest xray\",fulltext.search:\"image\",fulltext.search:\"dataset\"|\"database\",fulltext.search:\"artificial intelligence\"|\"machine learning\"|\"CNN\"|\"deep learning\"|\"convolutional neural network\"|\"computer-aided diagnosis\"|\"classification\"|\"classifier\"|\"transfer learning\"|\"multitask learning\"|\"AI\"&per-page=200&page=2\n",
      "https://api.openalex.org/works?filter=fulltext.search:\"chest radiology\"|\"CXR\"|\"chest xray\",fulltext.search:\"image\",fulltext.search:\"dataset\"|\"database\",fulltext.search:\"artificial intelligence\"|\"machine learning\"|\"CNN\"|\"deep learning\"|\"convolutional neural network\"|\"computer-aided diagnosis\"|\"classification\"|\"classifier\"|\"transfer learning\"|\"multitask learning\"|\"AI\"&per-page=200&page=3\n",
      "https://api.openalex.org/works?filter=fulltext.search:\"chest radiology\"|\"CXR\"|\"chest xray\",fulltext.search:\"image\",fulltext.search:\"dataset\"|\"database\",fulltext.search:\"artificial intelligence\"|\"machine learning\"|\"CNN\"|\"deep learning\"|\"convolutional neural network\"|\"computer-aided diagnosis\"|\"classification\"|\"classifier\"|\"transfer learning\"|\"multitask learning\"|\"AI\"&per-page=200&page=4\n",
      "https://api.openalex.org/works?filter=fulltext.search:\"chest radiology\"|\"CXR\"|\"chest xray\",fulltext.search:\"image\",fulltext.search:\"dataset\"|\"database\",fulltext.search:\"artificial intelligence\"|\"machine learning\"|\"CNN\"|\"deep learning\"|\"convolutional neural network\"|\"computer-aided diagnosis\"|\"classification\"|\"classifier\"|\"transfer learning\"|\"multitask learning\"|\"AI\"&per-page=200&page=5\n",
      "https://api.openalex.org/works?filter=fulltext.search:\"chest radiology\"|\"CXR\"|\"chest xray\",fulltext.search:\"image\",fulltext.search:\"dataset\"|\"database\",fulltext.search:\"artificial intelligence\"|\"machine learning\"|\"CNN\"|\"deep learning\"|\"convolutional neural network\"|\"computer-aided diagnosis\"|\"classification\"|\"classifier\"|\"transfer learning\"|\"multitask learning\"|\"AI\"&per-page=200&page=6\n",
      "https://api.openalex.org/works?filter=fulltext.search:\"chest radiology\"|\"CXR\"|\"chest xray\",fulltext.search:\"image\",fulltext.search:\"dataset\"|\"database\",fulltext.search:\"artificial intelligence\"|\"machine learning\"|\"CNN\"|\"deep learning\"|\"convolutional neural network\"|\"computer-aided diagnosis\"|\"classification\"|\"classifier\"|\"transfer learning\"|\"multitask learning\"|\"AI\"&per-page=200&page=7\n",
      "https://api.openalex.org/works?filter=fulltext.search:\"chest radiology\"|\"CXR\"|\"chest xray\",fulltext.search:\"image\",fulltext.search:\"dataset\"|\"database\",fulltext.search:\"artificial intelligence\"|\"machine learning\"|\"CNN\"|\"deep learning\"|\"convolutional neural network\"|\"computer-aided diagnosis\"|\"classification\"|\"classifier\"|\"transfer learning\"|\"multitask learning\"|\"AI\"&per-page=200&page=8\n"
     ]
    }
   ],
   "source": [
    "#count number of pages (rounding up):\n",
    "num_pages = math.ceil(meta['count']/meta['per_page'])\n",
    "\n",
    "#make a list in which the results from all pages can be added:\n",
    "result = []\n",
    "\n",
    "for page in range(1,num_pages+1): #loop that add the results from all available pages to the list.\n",
    "    url_new=f'{url}&page={page}'\n",
    "    result+=results(url_new)\n",
    "    page=+1\n",
    "    print(url_new) #print the url to check if the url is correct. "
   ]
  },
  {
   "cell_type": "code",
   "execution_count": 400,
   "id": "ca3b10d1",
   "metadata": {},
   "outputs": [
    {
     "data": {
      "text/plain": [
       "1452"
      ]
     },
     "execution_count": 400,
     "metadata": {},
     "output_type": "execute_result"
    }
   ],
   "source": [
    "#print the length of results. Should be equal to meta.count:\n",
    "len(result)"
   ]
  },
  {
   "cell_type": "code",
   "execution_count": 402,
   "id": "77ff33ef",
   "metadata": {},
   "outputs": [],
   "source": [
    "#normalize the results\n",
    "result = pd.json_normalize(result)"
   ]
  },
  {
   "cell_type": "code",
   "execution_count": 403,
   "id": "748ee884",
   "metadata": {},
   "outputs": [
    {
     "data": {
      "text/html": [
       "<div>\n",
       "<style scoped>\n",
       "    .dataframe tbody tr th:only-of-type {\n",
       "        vertical-align: middle;\n",
       "    }\n",
       "\n",
       "    .dataframe tbody tr th {\n",
       "        vertical-align: top;\n",
       "    }\n",
       "\n",
       "    .dataframe thead th {\n",
       "        text-align: right;\n",
       "    }\n",
       "</style>\n",
       "<table border=\"1\" class=\"dataframe\">\n",
       "  <thead>\n",
       "    <tr style=\"text-align: right;\">\n",
       "      <th></th>\n",
       "      <th>id</th>\n",
       "      <th>doi</th>\n",
       "      <th>title</th>\n",
       "      <th>display_name</th>\n",
       "      <th>relevance_score</th>\n",
       "      <th>publication_year</th>\n",
       "      <th>publication_date</th>\n",
       "      <th>type</th>\n",
       "      <th>authorships</th>\n",
       "      <th>cited_by_count</th>\n",
       "      <th>...</th>\n",
       "      <th>abstract_inverted_index.ward.</th>\n",
       "      <th>abstract_inverted_index.(65%).</th>\n",
       "      <th>abstract_inverted_index.(40.9%</th>\n",
       "      <th>abstract_inverted_index.ward),</th>\n",
       "      <th>abstract_inverted_index.Salbutamol</th>\n",
       "      <th>abstract_inverted_index.199).</th>\n",
       "      <th>abstract_inverted_index.Amongst</th>\n",
       "      <th>abstract_inverted_index.meaningfully</th>\n",
       "      <th>abstract_inverted_index.advice.</th>\n",
       "      <th>abstract_inverted_index.LVC.</th>\n",
       "    </tr>\n",
       "  </thead>\n",
       "  <tbody>\n",
       "    <tr>\n",
       "      <th>0</th>\n",
       "      <td>https://openalex.org/W3101156210</td>\n",
       "      <td>https://doi.org/10.1109/cvpr.2017.369</td>\n",
       "      <td>ChestX-Ray8: Hospital-Scale Chest X-Ray Databa...</td>\n",
       "      <td>ChestX-Ray8: Hospital-Scale Chest X-Ray Databa...</td>\n",
       "      <td>2489.0654</td>\n",
       "      <td>2017</td>\n",
       "      <td>2017-07-21</td>\n",
       "      <td>proceedings-article</td>\n",
       "      <td>[{'author_position': 'first', 'author': {'id':...</td>\n",
       "      <td>1857</td>\n",
       "      <td>...</td>\n",
       "      <td>NaN</td>\n",
       "      <td>NaN</td>\n",
       "      <td>NaN</td>\n",
       "      <td>NaN</td>\n",
       "      <td>NaN</td>\n",
       "      <td>NaN</td>\n",
       "      <td>NaN</td>\n",
       "      <td>NaN</td>\n",
       "      <td>NaN</td>\n",
       "      <td>NaN</td>\n",
       "    </tr>\n",
       "    <tr>\n",
       "      <th>1</th>\n",
       "      <td>https://openalex.org/W2731899572</td>\n",
       "      <td>https://doi.org/10.1007/s12194-017-0406-5</td>\n",
       "      <td>Overview of deep learning in medical imaging</td>\n",
       "      <td>Overview of deep learning in medical imaging</td>\n",
       "      <td>1636.1796</td>\n",
       "      <td>2017</td>\n",
       "      <td>2017-07-08</td>\n",
       "      <td>journal-article</td>\n",
       "      <td>[{'author_position': 'first', 'author': {'id':...</td>\n",
       "      <td>473</td>\n",
       "      <td>...</td>\n",
       "      <td>NaN</td>\n",
       "      <td>NaN</td>\n",
       "      <td>NaN</td>\n",
       "      <td>NaN</td>\n",
       "      <td>NaN</td>\n",
       "      <td>NaN</td>\n",
       "      <td>NaN</td>\n",
       "      <td>NaN</td>\n",
       "      <td>NaN</td>\n",
       "      <td>NaN</td>\n",
       "    </tr>\n",
       "    <tr>\n",
       "      <th>2</th>\n",
       "      <td>https://openalex.org/W2888397986</td>\n",
       "      <td>https://doi.org/10.1186/s12938-018-0544-y</td>\n",
       "      <td>Computer-aided detection in chest radiography ...</td>\n",
       "      <td>Computer-aided detection in chest radiography ...</td>\n",
       "      <td>1134.2656</td>\n",
       "      <td>2018</td>\n",
       "      <td>2018-08-22</td>\n",
       "      <td>journal-article</td>\n",
       "      <td>[{'author_position': 'first', 'author': {'id':...</td>\n",
       "      <td>187</td>\n",
       "      <td>...</td>\n",
       "      <td>NaN</td>\n",
       "      <td>NaN</td>\n",
       "      <td>NaN</td>\n",
       "      <td>NaN</td>\n",
       "      <td>NaN</td>\n",
       "      <td>NaN</td>\n",
       "      <td>NaN</td>\n",
       "      <td>NaN</td>\n",
       "      <td>NaN</td>\n",
       "      <td>NaN</td>\n",
       "    </tr>\n",
       "    <tr>\n",
       "      <th>3</th>\n",
       "      <td>https://openalex.org/W2150835094</td>\n",
       "      <td>https://doi.org/10.1007/s00134-012-2513-4</td>\n",
       "      <td>International evidence-based recommendations f...</td>\n",
       "      <td>International evidence-based recommendations f...</td>\n",
       "      <td>1010.3938</td>\n",
       "      <td>2012</td>\n",
       "      <td>2012-03-06</td>\n",
       "      <td>journal-article</td>\n",
       "      <td>[{'author_position': 'first', 'author': {'id':...</td>\n",
       "      <td>1860</td>\n",
       "      <td>...</td>\n",
       "      <td>NaN</td>\n",
       "      <td>NaN</td>\n",
       "      <td>NaN</td>\n",
       "      <td>NaN</td>\n",
       "      <td>NaN</td>\n",
       "      <td>NaN</td>\n",
       "      <td>NaN</td>\n",
       "      <td>NaN</td>\n",
       "      <td>NaN</td>\n",
       "      <td>NaN</td>\n",
       "    </tr>\n",
       "    <tr>\n",
       "      <th>4</th>\n",
       "      <td>https://openalex.org/W2963466845</td>\n",
       "      <td>https://doi.org/10.1609/aaai.v33i01.3301590</td>\n",
       "      <td>CheXpert: A Large Chest Radiograph Dataset wit...</td>\n",
       "      <td>CheXpert: A Large Chest Radiograph Dataset wit...</td>\n",
       "      <td>952.6728</td>\n",
       "      <td>2019</td>\n",
       "      <td>2019-01-21</td>\n",
       "      <td>journal-article</td>\n",
       "      <td>[{'author_position': 'first', 'author': {'id':...</td>\n",
       "      <td>821</td>\n",
       "      <td>...</td>\n",
       "      <td>NaN</td>\n",
       "      <td>NaN</td>\n",
       "      <td>NaN</td>\n",
       "      <td>NaN</td>\n",
       "      <td>NaN</td>\n",
       "      <td>NaN</td>\n",
       "      <td>NaN</td>\n",
       "      <td>NaN</td>\n",
       "      <td>NaN</td>\n",
       "      <td>NaN</td>\n",
       "    </tr>\n",
       "    <tr>\n",
       "      <th>...</th>\n",
       "      <td>...</td>\n",
       "      <td>...</td>\n",
       "      <td>...</td>\n",
       "      <td>...</td>\n",
       "      <td>...</td>\n",
       "      <td>...</td>\n",
       "      <td>...</td>\n",
       "      <td>...</td>\n",
       "      <td>...</td>\n",
       "      <td>...</td>\n",
       "      <td>...</td>\n",
       "      <td>...</td>\n",
       "      <td>...</td>\n",
       "      <td>...</td>\n",
       "      <td>...</td>\n",
       "      <td>...</td>\n",
       "      <td>...</td>\n",
       "      <td>...</td>\n",
       "      <td>...</td>\n",
       "      <td>...</td>\n",
       "      <td>...</td>\n",
       "    </tr>\n",
       "    <tr>\n",
       "      <th>1447</th>\n",
       "      <td>https://openalex.org/W2953697562</td>\n",
       "      <td>https://doi.org/10.1002/ajum.12161</td>\n",
       "      <td>A 9‐year audit of fetal chest masses in an Aus...</td>\n",
       "      <td>A 9‐year audit of fetal chest masses in an Aus...</td>\n",
       "      <td>NaN</td>\n",
       "      <td>2019</td>\n",
       "      <td>2019-06-27</td>\n",
       "      <td>journal-article</td>\n",
       "      <td>[{'author_position': 'first', 'author': {'id':...</td>\n",
       "      <td>0</td>\n",
       "      <td>...</td>\n",
       "      <td>NaN</td>\n",
       "      <td>NaN</td>\n",
       "      <td>NaN</td>\n",
       "      <td>NaN</td>\n",
       "      <td>NaN</td>\n",
       "      <td>NaN</td>\n",
       "      <td>NaN</td>\n",
       "      <td>NaN</td>\n",
       "      <td>NaN</td>\n",
       "      <td>NaN</td>\n",
       "    </tr>\n",
       "    <tr>\n",
       "      <th>1448</th>\n",
       "      <td>https://openalex.org/W2963716134</td>\n",
       "      <td>https://doi.org/10.1017/9781107587908.026</td>\n",
       "      <td>Pulmonary Consult: Management of Severe Hypoxi...</td>\n",
       "      <td>Pulmonary Consult: Management of Severe Hypoxi...</td>\n",
       "      <td>NaN</td>\n",
       "      <td>2019</td>\n",
       "      <td>2019-07-01</td>\n",
       "      <td>book-chapter</td>\n",
       "      <td>[{'author_position': 'first', 'author': {'id':...</td>\n",
       "      <td>0</td>\n",
       "      <td>...</td>\n",
       "      <td>NaN</td>\n",
       "      <td>NaN</td>\n",
       "      <td>NaN</td>\n",
       "      <td>NaN</td>\n",
       "      <td>NaN</td>\n",
       "      <td>NaN</td>\n",
       "      <td>NaN</td>\n",
       "      <td>NaN</td>\n",
       "      <td>NaN</td>\n",
       "      <td>NaN</td>\n",
       "    </tr>\n",
       "    <tr>\n",
       "      <th>1449</th>\n",
       "      <td>https://openalex.org/W4210948731</td>\n",
       "      <td>https://doi.org/10.1016/b978-0-323-60987-6.000...</td>\n",
       "      <td>Acute Heart Failure</td>\n",
       "      <td>Acute Heart Failure</td>\n",
       "      <td>NaN</td>\n",
       "      <td>2020</td>\n",
       "      <td>2020-01-01</td>\n",
       "      <td>book-chapter</td>\n",
       "      <td>[{'author_position': 'first', 'author': {'id':...</td>\n",
       "      <td>0</td>\n",
       "      <td>...</td>\n",
       "      <td>NaN</td>\n",
       "      <td>NaN</td>\n",
       "      <td>NaN</td>\n",
       "      <td>NaN</td>\n",
       "      <td>NaN</td>\n",
       "      <td>NaN</td>\n",
       "      <td>NaN</td>\n",
       "      <td>NaN</td>\n",
       "      <td>NaN</td>\n",
       "      <td>NaN</td>\n",
       "    </tr>\n",
       "    <tr>\n",
       "      <th>1450</th>\n",
       "      <td>https://openalex.org/W2970652729</td>\n",
       "      <td>https://doi.org/10.1111/jpc.14602</td>\n",
       "      <td>Bronchiolitis at a specialist paediatric centr...</td>\n",
       "      <td>Bronchiolitis at a specialist paediatric centr...</td>\n",
       "      <td>NaN</td>\n",
       "      <td>2020</td>\n",
       "      <td>2020-02-01</td>\n",
       "      <td>journal-article</td>\n",
       "      <td>[{'author_position': 'first', 'author': {'id':...</td>\n",
       "      <td>0</td>\n",
       "      <td>...</td>\n",
       "      <td>[97]</td>\n",
       "      <td>[140]</td>\n",
       "      <td>[151]</td>\n",
       "      <td>[157]</td>\n",
       "      <td>[166]</td>\n",
       "      <td>[173]</td>\n",
       "      <td>[174]</td>\n",
       "      <td>[211]</td>\n",
       "      <td>[240]</td>\n",
       "      <td>[252]</td>\n",
       "    </tr>\n",
       "    <tr>\n",
       "      <th>1451</th>\n",
       "      <td>https://openalex.org/W2922466376</td>\n",
       "      <td>https://doi.org/10.1007/s11042-019-7348-3</td>\n",
       "      <td>Comparative analysis of segmentation technique...</td>\n",
       "      <td>Comparative analysis of segmentation technique...</td>\n",
       "      <td>NaN</td>\n",
       "      <td>2020</td>\n",
       "      <td>2020-04-01</td>\n",
       "      <td>journal-article</td>\n",
       "      <td>[{'author_position': 'first', 'author': {'id':...</td>\n",
       "      <td>0</td>\n",
       "      <td>...</td>\n",
       "      <td>NaN</td>\n",
       "      <td>NaN</td>\n",
       "      <td>NaN</td>\n",
       "      <td>NaN</td>\n",
       "      <td>NaN</td>\n",
       "      <td>NaN</td>\n",
       "      <td>NaN</td>\n",
       "      <td>NaN</td>\n",
       "      <td>NaN</td>\n",
       "      <td>NaN</td>\n",
       "    </tr>\n",
       "  </tbody>\n",
       "</table>\n",
       "<p>1452 rows × 32172 columns</p>\n",
       "</div>"
      ],
      "text/plain": [
       "                                    id  \\\n",
       "0     https://openalex.org/W3101156210   \n",
       "1     https://openalex.org/W2731899572   \n",
       "2     https://openalex.org/W2888397986   \n",
       "3     https://openalex.org/W2150835094   \n",
       "4     https://openalex.org/W2963466845   \n",
       "...                                ...   \n",
       "1447  https://openalex.org/W2953697562   \n",
       "1448  https://openalex.org/W2963716134   \n",
       "1449  https://openalex.org/W4210948731   \n",
       "1450  https://openalex.org/W2970652729   \n",
       "1451  https://openalex.org/W2922466376   \n",
       "\n",
       "                                                    doi  \\\n",
       "0                 https://doi.org/10.1109/cvpr.2017.369   \n",
       "1             https://doi.org/10.1007/s12194-017-0406-5   \n",
       "2             https://doi.org/10.1186/s12938-018-0544-y   \n",
       "3             https://doi.org/10.1007/s00134-012-2513-4   \n",
       "4           https://doi.org/10.1609/aaai.v33i01.3301590   \n",
       "...                                                 ...   \n",
       "1447                 https://doi.org/10.1002/ajum.12161   \n",
       "1448          https://doi.org/10.1017/9781107587908.026   \n",
       "1449  https://doi.org/10.1016/b978-0-323-60987-6.000...   \n",
       "1450                  https://doi.org/10.1111/jpc.14602   \n",
       "1451          https://doi.org/10.1007/s11042-019-7348-3   \n",
       "\n",
       "                                                  title  \\\n",
       "0     ChestX-Ray8: Hospital-Scale Chest X-Ray Databa...   \n",
       "1          Overview of deep learning in medical imaging   \n",
       "2     Computer-aided detection in chest radiography ...   \n",
       "3     International evidence-based recommendations f...   \n",
       "4     CheXpert: A Large Chest Radiograph Dataset wit...   \n",
       "...                                                 ...   \n",
       "1447  A 9‐year audit of fetal chest masses in an Aus...   \n",
       "1448  Pulmonary Consult: Management of Severe Hypoxi...   \n",
       "1449                                Acute Heart Failure   \n",
       "1450  Bronchiolitis at a specialist paediatric centr...   \n",
       "1451  Comparative analysis of segmentation technique...   \n",
       "\n",
       "                                           display_name  relevance_score  \\\n",
       "0     ChestX-Ray8: Hospital-Scale Chest X-Ray Databa...        2489.0654   \n",
       "1          Overview of deep learning in medical imaging        1636.1796   \n",
       "2     Computer-aided detection in chest radiography ...        1134.2656   \n",
       "3     International evidence-based recommendations f...        1010.3938   \n",
       "4     CheXpert: A Large Chest Radiograph Dataset wit...         952.6728   \n",
       "...                                                 ...              ...   \n",
       "1447  A 9‐year audit of fetal chest masses in an Aus...              NaN   \n",
       "1448  Pulmonary Consult: Management of Severe Hypoxi...              NaN   \n",
       "1449                                Acute Heart Failure              NaN   \n",
       "1450  Bronchiolitis at a specialist paediatric centr...              NaN   \n",
       "1451  Comparative analysis of segmentation technique...              NaN   \n",
       "\n",
       "      publication_year publication_date                 type  \\\n",
       "0                 2017       2017-07-21  proceedings-article   \n",
       "1                 2017       2017-07-08      journal-article   \n",
       "2                 2018       2018-08-22      journal-article   \n",
       "3                 2012       2012-03-06      journal-article   \n",
       "4                 2019       2019-01-21      journal-article   \n",
       "...                ...              ...                  ...   \n",
       "1447              2019       2019-06-27      journal-article   \n",
       "1448              2019       2019-07-01         book-chapter   \n",
       "1449              2020       2020-01-01         book-chapter   \n",
       "1450              2020       2020-02-01      journal-article   \n",
       "1451              2020       2020-04-01      journal-article   \n",
       "\n",
       "                                            authorships  cited_by_count  ...  \\\n",
       "0     [{'author_position': 'first', 'author': {'id':...            1857  ...   \n",
       "1     [{'author_position': 'first', 'author': {'id':...             473  ...   \n",
       "2     [{'author_position': 'first', 'author': {'id':...             187  ...   \n",
       "3     [{'author_position': 'first', 'author': {'id':...            1860  ...   \n",
       "4     [{'author_position': 'first', 'author': {'id':...             821  ...   \n",
       "...                                                 ...             ...  ...   \n",
       "1447  [{'author_position': 'first', 'author': {'id':...               0  ...   \n",
       "1448  [{'author_position': 'first', 'author': {'id':...               0  ...   \n",
       "1449  [{'author_position': 'first', 'author': {'id':...               0  ...   \n",
       "1450  [{'author_position': 'first', 'author': {'id':...               0  ...   \n",
       "1451  [{'author_position': 'first', 'author': {'id':...               0  ...   \n",
       "\n",
       "      abstract_inverted_index.ward. abstract_inverted_index.(65%).  \\\n",
       "0                               NaN                            NaN   \n",
       "1                               NaN                            NaN   \n",
       "2                               NaN                            NaN   \n",
       "3                               NaN                            NaN   \n",
       "4                               NaN                            NaN   \n",
       "...                             ...                            ...   \n",
       "1447                            NaN                            NaN   \n",
       "1448                            NaN                            NaN   \n",
       "1449                            NaN                            NaN   \n",
       "1450                           [97]                          [140]   \n",
       "1451                            NaN                            NaN   \n",
       "\n",
       "     abstract_inverted_index.(40.9% abstract_inverted_index.ward),  \\\n",
       "0                               NaN                            NaN   \n",
       "1                               NaN                            NaN   \n",
       "2                               NaN                            NaN   \n",
       "3                               NaN                            NaN   \n",
       "4                               NaN                            NaN   \n",
       "...                             ...                            ...   \n",
       "1447                            NaN                            NaN   \n",
       "1448                            NaN                            NaN   \n",
       "1449                            NaN                            NaN   \n",
       "1450                          [151]                          [157]   \n",
       "1451                            NaN                            NaN   \n",
       "\n",
       "     abstract_inverted_index.Salbutamol abstract_inverted_index.199).  \\\n",
       "0                                   NaN                           NaN   \n",
       "1                                   NaN                           NaN   \n",
       "2                                   NaN                           NaN   \n",
       "3                                   NaN                           NaN   \n",
       "4                                   NaN                           NaN   \n",
       "...                                 ...                           ...   \n",
       "1447                                NaN                           NaN   \n",
       "1448                                NaN                           NaN   \n",
       "1449                                NaN                           NaN   \n",
       "1450                              [166]                         [173]   \n",
       "1451                                NaN                           NaN   \n",
       "\n",
       "     abstract_inverted_index.Amongst abstract_inverted_index.meaningfully  \\\n",
       "0                                NaN                                  NaN   \n",
       "1                                NaN                                  NaN   \n",
       "2                                NaN                                  NaN   \n",
       "3                                NaN                                  NaN   \n",
       "4                                NaN                                  NaN   \n",
       "...                              ...                                  ...   \n",
       "1447                             NaN                                  NaN   \n",
       "1448                             NaN                                  NaN   \n",
       "1449                             NaN                                  NaN   \n",
       "1450                           [174]                                [211]   \n",
       "1451                             NaN                                  NaN   \n",
       "\n",
       "     abstract_inverted_index.advice. abstract_inverted_index.LVC.  \n",
       "0                                NaN                          NaN  \n",
       "1                                NaN                          NaN  \n",
       "2                                NaN                          NaN  \n",
       "3                                NaN                          NaN  \n",
       "4                                NaN                          NaN  \n",
       "...                              ...                          ...  \n",
       "1447                             NaN                          NaN  \n",
       "1448                             NaN                          NaN  \n",
       "1449                             NaN                          NaN  \n",
       "1450                           [240]                        [252]  \n",
       "1451                             NaN                          NaN  \n",
       "\n",
       "[1452 rows x 32172 columns]"
      ]
     },
     "execution_count": 403,
     "metadata": {},
     "output_type": "execute_result"
    }
   ],
   "source": [
    "result"
   ]
  },
  {
   "cell_type": "code",
   "execution_count": 404,
   "id": "30a51fa4",
   "metadata": {},
   "outputs": [],
   "source": [
    "#save results to csv:\n",
    "result.to_csv('results.csv')"
   ]
  }
 ],
 "metadata": {
  "kernelspec": {
   "display_name": "Python 3 (ipykernel)",
   "language": "python",
   "name": "python3"
  },
  "language_info": {
   "codemirror_mode": {
    "name": "ipython",
    "version": 3
   },
   "file_extension": ".py",
   "mimetype": "text/x-python",
   "name": "python",
   "nbconvert_exporter": "python",
   "pygments_lexer": "ipython3",
   "version": "3.9.13"
  }
 },
 "nbformat": 4,
 "nbformat_minor": 5
}
